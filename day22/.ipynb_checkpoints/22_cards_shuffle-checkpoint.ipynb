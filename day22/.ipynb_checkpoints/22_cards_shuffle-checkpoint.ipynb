{
 "cells": [
  {
   "cell_type": "code",
   "execution_count": 10,
   "metadata": {},
   "outputs": [],
   "source": [
    "# https://github.com/metalim/metalim.adventofcode.2019.python/blob/master/22_cards_shuffle.ipynb\n",
    "import re\n",
    "\n",
    "with open('src/input.txt') as file:\n",
    "    input = file.read().strip()\n",
    "\n",
    "rules = input.split('\\n')"
   ]
  },
  {
   "cell_type": "code",
   "execution_count": 11,
   "metadata": {},
   "outputs": [
    {
     "name": "stdout",
     "output_type": "stream",
     "text": [
      "CPU times: user 117 ms, sys: 5.61 ms, total: 123 ms\n",
      "Wall time: 138 ms\n"
     ]
    },
    {
     "data": {
      "text/plain": [
       "2558"
      ]
     },
     "execution_count": 11,
     "metadata": {},
     "output_type": "execute_result"
    }
   ],
   "source": [
    "%%time\n",
    "\n",
    "def shuffle(deck, rules):\n",
    "    for s in rules:\n",
    "        if s == 'deal into new stack':\n",
    "            deck.reverse()\n",
    "            continue\n",
    "        match = re.match(r'cut (-?\\d+)', s)\n",
    "        if match != None:\n",
    "            n = int(match.group(1))\n",
    "            deck = deck[n:]+deck[:n]\n",
    "            continue\n",
    "        match = re.match(r'deal with increment (\\d+)', s)\n",
    "        if match != None:\n",
    "            n = int(match.group(1))\n",
    "            ndeck = [0]*len(deck)\n",
    "            for i in range(len(deck)):\n",
    "                ndeck[(i*n)%len(deck)] = deck[i]\n",
    "            deck = ndeck\n",
    "            continue\n",
    "        raise Exception('unknown rule', s)\n",
    "    return deck\n",
    "\n",
    "deck = shuffle(list(range(10007)), rules)\n",
    "deck.index(2019)\n"
   ]
  },
  {
   "cell_type": "code",
   "execution_count": 12,
   "metadata": {},
   "outputs": [],
   "source": [
    "\n",
    "# convert rules to linear polynomial.\n",
    "# (g∘f)(x) = g(f(x))\n",
    "def parse(L, rules):\n",
    "    a,b = 1,0\n",
    "    for s in rules[::-1]:\n",
    "        if s == 'deal into new stack':\n",
    "            a = -a\n",
    "            b = L-b-1\n",
    "            continue\n",
    "        if s.startswith('cut'):\n",
    "            n = int(s.split(' ')[1])\n",
    "            b = (b+n)%L\n",
    "            continue\n",
    "        if s.startswith('deal with increment'):\n",
    "            n = int(s.split(' ')[3])\n",
    "            z = pow(n,L-2,L) # == modinv(n,L)\n",
    "            a = a*z % L\n",
    "            b = b*z % L\n",
    "            continue\n",
    "        raise Exception('unknown rule', s)\n",
    "    return a,b\n",
    "\n",
    "# modpow the polynomial: (ax+b)^m % n\n",
    "# f(x) = ax+b\n",
    "# g(x) = cx+d\n",
    "# f^2(x) = a(ax+b)+b = aax + ab+b\n",
    "# f(g(x)) = a(cx+d)+b = acx + ad+b\n",
    "def polypow(a,b,m,n):\n",
    "    if m==0:\n",
    "        return 1,0\n",
    "    if m%2==0:\n",
    "        return polypow(a*a%n, (a*b+b)%n, m//2, n)\n",
    "    else:\n",
    "        c,d = polypow(a,b,m-1,n)\n",
    "        return a*c%n, (a*d+b)%n\n",
    "\n",
    "def shuffle2(L, N, pos, rules):\n",
    "    a,b = parse(L,rules)\n",
    "    a,b = polypow(a,b,N,L)\n",
    "    return (pos*a+b)%L\n"
   ]
  },
  {
   "cell_type": "code",
   "execution_count": 13,
   "metadata": {},
   "outputs": [
    {
     "name": "stdout",
     "output_type": "stream",
     "text": [
      "1441\n",
      "1441\n",
      "CPU times: user 809 ms, sys: 7.79 ms, total: 817 ms\n",
      "Wall time: 826 ms\n"
     ]
    }
   ],
   "source": [
    "%%time\n",
    "\n",
    "# test it out\n",
    "pos = 2020\n",
    "L = 10007\n",
    "N = 10\n",
    "deck = list(range(L))\n",
    "for i in range(N):\n",
    "    deck = shuffle(deck,rules)\n",
    "print(deck[pos])\n",
    "print(shuffle2(L,N,pos,rules))\n"
   ]
  },
  {
   "cell_type": "code",
   "execution_count": 14,
   "metadata": {},
   "outputs": [
    {
     "name": "stdout",
     "output_type": "stream",
     "text": [
      "CPU times: user 652 µs, sys: 18 µs, total: 670 µs\n",
      "Wall time: 661 µs\n"
     ]
    },
    {
     "data": {
      "text/plain": [
       "63967243502561"
      ]
     },
     "execution_count": 14,
     "metadata": {},
     "output_type": "execute_result"
    }
   ],
   "source": [
    "%%time\n",
    "\n",
    "L = 119315717514047\n",
    "N = 101741582076661\n",
    "shuffle2(L,N,2020,rules)\n"
   ]
  },
  {
   "cell_type": "code",
   "execution_count": null,
   "metadata": {},
   "outputs": [],
   "source": []
  }
 ],
 "metadata": {
  "file_extension": ".py",
  "kernelspec": {
   "display_name": "Python 3",
   "language": "python",
   "name": "python3"
  },
  "language_info": {
   "codemirror_mode": {
    "name": "ipython",
    "version": 3
   },
   "file_extension": ".py",
   "mimetype": "text/x-python",
   "name": "python",
   "nbconvert_exporter": "python",
   "pygments_lexer": "ipython3",
   "version": "3.9.7"
  },
  "mimetype": "text/x-python",
  "name": "python",
  "npconvert_exporter": "python",
  "pygments_lexer": "ipython3",
  "version": 3
 },
 "nbformat": 4,
 "nbformat_minor": 4
}
